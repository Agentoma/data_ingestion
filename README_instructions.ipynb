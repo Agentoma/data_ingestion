{
 "cells": [
  {
   "cell_type": "markdown",
   "metadata": {},
   "source": [
    "# MMAI 5100 - Data Ingestion Setup - Python Guide"
   ]
  },
  {
   "cell_type": "markdown",
   "metadata": {},
   "source": [
    "Written by: Christine Tang\n",
    "*Please follow these instructions CLEARLY and IN ORDER!*\n",
    "\n",
    "It is recommended:\n",
    "* Run this on VS Cde\n",
    "* Ideally, run the most recent version of Python: https://www.redswitches.com/blog/upgrade-python/\n",
    "* Read the entire guide before executing any of the steps"
   ]
  },
  {
   "cell_type": "markdown",
   "metadata": {},
   "source": [
    "# PART 1: Folder & Dependencies Setup"
   ]
  },
  {
   "cell_type": "markdown",
   "metadata": {},
   "source": [
    "### 1. Download the connection_test files, from the public github:\n",
    "Navigate here: https://github.com/TangoMango223/data_ingestion"
   ]
  },
  {
   "cell_type": "markdown",
   "metadata": {},
   "source": [
    "### 2. Download the files from the Github location - Click \"Download ZIP\" and unzip on your laptop.\n",
    "\n",
    "Go to <> Code --> \"Download ZIP\""
   ]
  },
  {
   "cell_type": "markdown",
   "metadata": {},
   "source": [
    "<img src=\"https://raw.githubusercontent.com/TangoMango223/data_ingestion/main/Tutorial_pictures/picture_1.png\" alt=\"Step #1\" style=\"width:500px;\">"
   ]
  },
  {
   "cell_type": "markdown",
   "metadata": {},
   "source": [
    "## 3. Save the files in an accessible location.\n",
    "For example. I save them all under a VS Code location. Example:"
   ]
  },
  {
   "cell_type": "code",
   "execution_count": null,
   "metadata": {},
   "outputs": [],
   "source": [
    "<img src=\"\"httlp\" alt=\"Step #3\" style=\"width:500px;\">"
   ]
  },
  {
   "cell_type": "markdown",
   "metadata": {},
   "source": [
    "## 4. Remember location of \"data_ingestion-main\" on VSCode. It should look like this:"
   ]
  },
  {
   "cell_type": "markdown",
   "metadata": {},
   "source": [
    "<img src=\"\"httlp\" alt=\"Step #4\" style=\"width:500px;\">\n",
    "<img src=\"\"httlp\" alt=\"Step #4\" style=\"width:500px;\">"
   ]
  },
  {
   "cell_type": "markdown",
   "metadata": {},
   "source": [
    "## 5. IMPORTANT: Create Virtual Environment in VS Code.\n",
    "\n",
    "Why: A virtual environment in Python is an isolated environment that allows you to manage dependencies for a specific project without \n",
    "affecting other projects or <br> the global Python installation. In VS Code, using a virtual environment ensures that you have a clean, project-specific setup with the required packages and dependencies."
   ]
  },
  {
   "cell_type": "markdown",
   "metadata": {},
   "source": [
    "### 1. On the BOTTOM RIGHT CORNER, click the name of your Python version:"
   ]
  },
  {
   "cell_type": "markdown",
   "metadata": {},
   "source": [
    "<img src=\"\"httlp\" alt=\"Step #4\" style=\"width:500px;\">"
   ]
  },
  {
   "cell_type": "markdown",
   "metadata": {},
   "source": [
    "### 2. The top portion will emerge. Click \"Create Virtual Environment...\" "
   ]
  },
  {
   "cell_type": "markdown",
   "metadata": {},
   "source": [
    "<img src=\"\"httlp\" alt=\"Step #4\" style=\"width:500px;\">"
   ]
  },
  {
   "cell_type": "markdown",
   "metadata": {},
   "source": [
    "### 3. Select \"Venv Create a '.venv' virtual environment in the current workplace"
   ]
  },
  {
   "cell_type": "markdown",
   "metadata": {},
   "source": [
    "<img src=\"\"httlp\" alt=\"Step #4\" style=\"width:500px;\">"
   ]
  },
  {
   "cell_type": "markdown",
   "metadata": {},
   "source": [
    "### 4. Select interpreter path. \n",
    "For example, it should be the most recent version of Python, i.e. Python 3.12.4 64 bit for me:"
   ]
  },
  {
   "cell_type": "markdown",
   "metadata": {},
   "source": [
    "<img src=\"\"httlp\" alt=\"Step #4\" style=\"width:500px;\">"
   ]
  },
  {
   "cell_type": "markdown",
   "metadata": {},
   "source": [
    "### 5. Select dependencies to install - click the checkmark. \"Requirements.txt\" should be selected!"
   ]
  },
  {
   "cell_type": "markdown",
   "metadata": {},
   "source": [
    "<img src=\"\"httlp\" alt=\"Step #4\" style=\"width:500px;\">"
   ]
  },
  {
   "cell_type": "markdown",
   "metadata": {},
   "source": [
    "### 6. If you did this correctly, you should see a \".venv\" in your left panel. If so - GREAT JOB!"
   ]
  },
  {
   "cell_type": "markdown",
   "metadata": {},
   "source": [
    "<img src=\"\"httlp\" alt=\"Step #4\" style=\"width:500px;\">"
   ]
  },
  {
   "cell_type": "markdown",
   "metadata": {},
   "source": [
    "### 7. Go to folder \"examples\" > \"connection_test.py\" and run the file by clicking \"play\".\n",
    "If it ran without any errors (i.e. no red text), that means all required dependencies and packages were installed.\n",
    "You can see under my terminal, I had no errors, so it ran successfully."
   ]
  },
  {
   "cell_type": "markdown",
   "metadata": {},
   "source": []
  },
  {
   "cell_type": "markdown",
   "metadata": {},
   "source": []
  },
  {
   "cell_type": "markdown",
   "metadata": {},
   "source": []
  }
 ],
 "metadata": {
  "kernelspec": {
   "display_name": ".venv",
   "language": "python",
   "name": "python3"
  },
  "language_info": {
   "codemirror_mode": {
    "name": "ipython",
    "version": 3
   },
   "file_extension": ".py",
   "mimetype": "text/x-python",
   "name": "python",
   "nbconvert_exporter": "python",
   "pygments_lexer": "ipython3",
   "version": "3.12.3"
  }
 },
 "nbformat": 4,
 "nbformat_minor": 2
}
