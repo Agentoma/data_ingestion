{
 "cells": [
  {
   "cell_type": "code",
   "execution_count": 7,
   "metadata": {},
   "outputs": [],
   "source": [
    "# Install statements\n",
    "import pandas as pd \n",
    "import sqlalchemy as sa "
   ]
  },
  {
   "cell_type": "markdown",
   "metadata": {},
   "source": [
    "# ENTER YOUR YORK USERNAME BELOW!!"
   ]
  },
  {
   "cell_type": "code",
   "execution_count": 2,
   "metadata": {},
   "outputs": [],
   "source": [
    "# Replace this with your username:\n",
    "york_username = \"tango97\""
   ]
  },
  {
   "cell_type": "code",
   "execution_count": 3,
   "metadata": {},
   "outputs": [],
   "source": [
    "# Dictionary - params to set up the DB Engine\n",
    "mmai_db_secret = {\n",
    "    \"database\" : \"mmai_db\",\n",
    "    \"drivername\" : \"mssql+pyodbc\",\n",
    "    \"host\" : \"mmai2024-ms-sql-server.c1oick8a8ywa.ca-central-1.rds.amazonaws.com\",\n",
    "    \"port\" : \"1433\",\n",
    "    \"username\": york_username,\n",
    "    \"password\": \"2024!Schulich\",\n",
    "    \"driver\": \"ODBC Driver 18 for SQL Server\",\n",
    "    \"trust_cert\" : \"yes\"\n",
    "}"
   ]
  },
  {
   "cell_type": "code",
   "execution_count": 4,
   "metadata": {},
   "outputs": [],
   "source": [
    "# Function to create the DB engine - DO NOT TOUCH\n",
    "def create_db_engine(db_config):\n",
    "    connection_url = sa.engine.URL.create(\n",
    "        drivername = db_config.get(\"drivername\"),\n",
    "        username = db_config.get(\"username\"),\n",
    "        password = db_config.get(\"password\"),\n",
    "        host  = db_config.get(\"host\"),\n",
    "        port  = db_config.get(\"port\"),\n",
    "        database  = db_config.get(\"database\"),\n",
    "        query = {\n",
    "            \"driver\" : db_config.get(\"driver\"),\n",
    "            \"TrustServerCertificate\": db_config.get(\"trust_cert\")\n",
    "        }\n",
    "    )\n",
    "    return sa.create_engine(connection_url)"
   ]
  },
  {
   "cell_type": "code",
   "execution_count": 5,
   "metadata": {},
   "outputs": [],
   "source": [
    "# Initialize the MySql Engine using SQL Alchemy\n",
    "mssql_engine = create_db_engine(mmai_db_secret)"
   ]
  },
  {
   "cell_type": "code",
   "execution_count": 6,
   "metadata": {},
   "outputs": [],
   "source": [
    "with mssql_engine.connect() as connection:\n",
    "    data = pd.read_sql(sql=\"SELECT * FROM assignment01.bakery_sales;\", con=connection)\n"
   ]
  },
  {
   "cell_type": "code",
   "execution_count": null,
   "metadata": {},
   "outputs": [],
   "source": []
  },
  {
   "cell_type": "markdown",
   "metadata": {},
   "source": [
    "# If you've exe"
   ]
  }
 ],
 "metadata": {
  "kernelspec": {
   "display_name": ".venv",
   "language": "python",
   "name": "python3"
  },
  "language_info": {
   "codemirror_mode": {
    "name": "ipython",
    "version": 3
   },
   "file_extension": ".py",
   "mimetype": "text/x-python",
   "name": "python",
   "nbconvert_exporter": "python",
   "pygments_lexer": "ipython3",
   "version": "3.12.3"
  }
 },
 "nbformat": 4,
 "nbformat_minor": 2
}
