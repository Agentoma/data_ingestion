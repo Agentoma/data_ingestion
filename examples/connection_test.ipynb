{
 "cells": [
  {
   "cell_type": "code",
   "execution_count": 24,
   "metadata": {},
   "outputs": [],
   "source": [
    "import pandas as pd \n",
    "import sqlalchemy as sa "
   ]
  },
  {
   "cell_type": "code",
   "execution_count": 32,
   "metadata": {},
   "outputs": [],
   "source": [
    "mmai_db_secret = {\n",
    "    \"database\" : \"mmai_db\",\n",
    "    \"drivername\" : \"mssql+pyodbc\",\n",
    "    \"host\" : \"mmai2024-ms-sql-server.c1oick8a8ywa.ca-central-1.rds.amazonaws.com\",\n",
    "    \"port\" : \"1433\",\n",
    "    \"username\": \"tango97\",\n",
    "    \"password\": \"2024!Schulich\",\n",
    "    \"driver\": \"ODBC Driver 18 for SQL Server\",\n",
    "    \"trust_cert\" : \"yes\"\n",
    "}"
   ]
  },
  {
   "cell_type": "code",
   "execution_count": null,
   "metadata": {},
   "outputs": [],
   "source": [
    "# Download ODBC Drivers for Windows: https://learn.microsoft.com/en-us/sql/connect/odbc/download-odbc-driver-for-sql-server?view=sql-server-ver16\n",
    "\n",
    "# Download ODBC Drivers for Mac Users: https://learn.microsoft.com/en-us/sql/connect/odbc/linux-mac/install-microsoft-odbc-driver-sql-server-macos?view=sql-server-ver16"
   ]
  },
  {
   "cell_type": "code",
   "execution_count": 33,
   "metadata": {},
   "outputs": [],
   "source": [
    "def create_db_engine(db_config):\n",
    "    connection_url = sa.engine.URL.create(\n",
    "        drivername = db_config.get(\"drivername\"),\n",
    "        username = db_config.get(\"username\"),\n",
    "        password = db_config.get(\"password\"),\n",
    "        host  = db_config.get(\"host\"),\n",
    "        port  = db_config.get(\"port\"),\n",
    "        database  = db_config.get(\"database\"),\n",
    "        query = {\n",
    "            \"driver\" : db_config.get(\"driver\"),\n",
    "            \"TrustServerCertificate\": db_config.get(\"trust_cert\")\n",
    "        }\n",
    "    )\n",
    "    return sa.create_engine(connection_url)"
   ]
  },
  {
   "cell_type": "code",
   "execution_count": 34,
   "metadata": {},
   "outputs": [],
   "source": [
    "mssql_engine = create_db_engine(mmai_db_secret)"
   ]
  },
  {
   "cell_type": "code",
   "execution_count": 35,
   "metadata": {},
   "outputs": [],
   "source": [
    "with mssql_engine.connect() as connection:\n",
    "    data = pd.read_sql(sql=\"SELECT * FROM assignment01.bakery_sales;\", con=connection)\n"
   ]
  },
  {
   "cell_type": "code",
   "execution_count": 38,
   "metadata": {},
   "outputs": [
    {
     "data": {
      "text/plain": [
       "pandas.core.frame.DataFrame"
      ]
     },
     "execution_count": 38,
     "metadata": {},
     "output_type": "execute_result"
    }
   ],
   "source": [
    "type(data)"
   ]
  },
  {
   "cell_type": "code",
   "execution_count": 39,
   "metadata": {},
   "outputs": [
    {
     "data": {
      "text/html": [
       "<div>\n",
       "<style scoped>\n",
       "    .dataframe tbody tr th:only-of-type {\n",
       "        vertical-align: middle;\n",
       "    }\n",
       "\n",
       "    .dataframe tbody tr th {\n",
       "        vertical-align: top;\n",
       "    }\n",
       "\n",
       "    .dataframe thead th {\n",
       "        text-align: right;\n",
       "    }\n",
       "</style>\n",
       "<table border=\"1\" class=\"dataframe\">\n",
       "  <thead>\n",
       "    <tr style=\"text-align: right;\">\n",
       "      <th></th>\n",
       "      <th>sale_date</th>\n",
       "      <th>sale_time</th>\n",
       "      <th>ticket_number</th>\n",
       "      <th>article</th>\n",
       "      <th>quantity</th>\n",
       "      <th>unit_price</th>\n",
       "      <th>sale_datetime</th>\n",
       "    </tr>\n",
       "  </thead>\n",
       "  <tbody>\n",
       "    <tr>\n",
       "      <th>0</th>\n",
       "      <td>2021-07-17</td>\n",
       "      <td>11:26:00</td>\n",
       "      <td>189122</td>\n",
       "      <td>TRADITIONAL BAGUETTE</td>\n",
       "      <td>2</td>\n",
       "      <td>1.2</td>\n",
       "      <td>2021-07-17 11:26:00</td>\n",
       "    </tr>\n",
       "    <tr>\n",
       "      <th>1</th>\n",
       "      <td>2021-07-17</td>\n",
       "      <td>11:26:00</td>\n",
       "      <td>189122</td>\n",
       "      <td>MOISSON</td>\n",
       "      <td>1</td>\n",
       "      <td>2.0</td>\n",
       "      <td>2021-07-17 11:26:00</td>\n",
       "    </tr>\n",
       "    <tr>\n",
       "      <th>2</th>\n",
       "      <td>2021-07-17</td>\n",
       "      <td>11:26:00</td>\n",
       "      <td>189123</td>\n",
       "      <td>PAIN AU CHOCOLAT</td>\n",
       "      <td>4</td>\n",
       "      <td>1.2</td>\n",
       "      <td>2021-07-17 11:26:00</td>\n",
       "    </tr>\n",
       "    <tr>\n",
       "      <th>3</th>\n",
       "      <td>2021-07-17</td>\n",
       "      <td>11:26:00</td>\n",
       "      <td>189124</td>\n",
       "      <td>TRADITIONAL BAGUETTE</td>\n",
       "      <td>2</td>\n",
       "      <td>1.2</td>\n",
       "      <td>2021-07-17 11:26:00</td>\n",
       "    </tr>\n",
       "    <tr>\n",
       "      <th>4</th>\n",
       "      <td>2021-07-17</td>\n",
       "      <td>11:27:00</td>\n",
       "      <td>189125</td>\n",
       "      <td>TRADITIONAL BAGUETTE</td>\n",
       "      <td>1</td>\n",
       "      <td>1.2</td>\n",
       "      <td>2021-07-17 11:27:00</td>\n",
       "    </tr>\n",
       "  </tbody>\n",
       "</table>\n",
       "</div>"
      ],
      "text/plain": [
       "    sale_date sale_time  ticket_number               article  quantity  \\\n",
       "0  2021-07-17  11:26:00         189122  TRADITIONAL BAGUETTE         2   \n",
       "1  2021-07-17  11:26:00         189122               MOISSON         1   \n",
       "2  2021-07-17  11:26:00         189123      PAIN AU CHOCOLAT         4   \n",
       "3  2021-07-17  11:26:00         189124  TRADITIONAL BAGUETTE         2   \n",
       "4  2021-07-17  11:27:00         189125  TRADITIONAL BAGUETTE         1   \n",
       "\n",
       "   unit_price       sale_datetime  \n",
       "0         1.2 2021-07-17 11:26:00  \n",
       "1         2.0 2021-07-17 11:26:00  \n",
       "2         1.2 2021-07-17 11:26:00  \n",
       "3         1.2 2021-07-17 11:26:00  \n",
       "4         1.2 2021-07-17 11:27:00  "
      ]
     },
     "execution_count": 39,
     "metadata": {},
     "output_type": "execute_result"
    }
   ],
   "source": [
    "data.head()"
   ]
  },
  {
   "cell_type": "code",
   "execution_count": 41,
   "metadata": {},
   "outputs": [
    {
     "data": {
      "text/html": [
       "<div>\n",
       "<style scoped>\n",
       "    .dataframe tbody tr th:only-of-type {\n",
       "        vertical-align: middle;\n",
       "    }\n",
       "\n",
       "    .dataframe tbody tr th {\n",
       "        vertical-align: top;\n",
       "    }\n",
       "\n",
       "    .dataframe thead th {\n",
       "        text-align: right;\n",
       "    }\n",
       "</style>\n",
       "<table border=\"1\" class=\"dataframe\">\n",
       "  <thead>\n",
       "    <tr style=\"text-align: right;\">\n",
       "      <th></th>\n",
       "      <th>ticket_number</th>\n",
       "      <th>quantity</th>\n",
       "      <th>unit_price</th>\n",
       "      <th>sale_datetime</th>\n",
       "    </tr>\n",
       "  </thead>\n",
       "  <tbody>\n",
       "    <tr>\n",
       "      <th>count</th>\n",
       "      <td>234005.000000</td>\n",
       "      <td>234005.000000</td>\n",
       "      <td>234000.000000</td>\n",
       "      <td>234005</td>\n",
       "    </tr>\n",
       "    <tr>\n",
       "      <th>mean</th>\n",
       "      <td>219201.258738</td>\n",
       "      <td>1.538377</td>\n",
       "      <td>1.662230</td>\n",
       "      <td>2021-11-30 23:07:31.923164160</td>\n",
       "    </tr>\n",
       "    <tr>\n",
       "      <th>min</th>\n",
       "      <td>150040.000000</td>\n",
       "      <td>-200.000000</td>\n",
       "      <td>0.000000</td>\n",
       "      <td>2021-01-02 08:38:00</td>\n",
       "    </tr>\n",
       "    <tr>\n",
       "      <th>25%</th>\n",
       "      <td>184754.000000</td>\n",
       "      <td>1.000000</td>\n",
       "      <td>1.100000</td>\n",
       "      <td>2021-07-03 11:21:00</td>\n",
       "    </tr>\n",
       "    <tr>\n",
       "      <th>50%</th>\n",
       "      <td>218807.000000</td>\n",
       "      <td>1.000000</td>\n",
       "      <td>1.200000</td>\n",
       "      <td>2021-11-04 11:56:00</td>\n",
       "    </tr>\n",
       "    <tr>\n",
       "      <th>75%</th>\n",
       "      <td>253927.000000</td>\n",
       "      <td>2.000000</td>\n",
       "      <td>1.500000</td>\n",
       "      <td>2022-05-31 09:18:00</td>\n",
       "    </tr>\n",
       "    <tr>\n",
       "      <th>max</th>\n",
       "      <td>288913.000000</td>\n",
       "      <td>200.000000</td>\n",
       "      <td>60.000000</td>\n",
       "      <td>2022-09-30 18:56:00</td>\n",
       "    </tr>\n",
       "    <tr>\n",
       "      <th>std</th>\n",
       "      <td>40053.223896</td>\n",
       "      <td>1.289603</td>\n",
       "      <td>1.722721</td>\n",
       "      <td>NaN</td>\n",
       "    </tr>\n",
       "  </tbody>\n",
       "</table>\n",
       "</div>"
      ],
      "text/plain": [
       "       ticket_number       quantity     unit_price  \\\n",
       "count  234005.000000  234005.000000  234000.000000   \n",
       "mean   219201.258738       1.538377       1.662230   \n",
       "min    150040.000000    -200.000000       0.000000   \n",
       "25%    184754.000000       1.000000       1.100000   \n",
       "50%    218807.000000       1.000000       1.200000   \n",
       "75%    253927.000000       2.000000       1.500000   \n",
       "max    288913.000000     200.000000      60.000000   \n",
       "std     40053.223896       1.289603       1.722721   \n",
       "\n",
       "                       sale_datetime  \n",
       "count                         234005  \n",
       "mean   2021-11-30 23:07:31.923164160  \n",
       "min              2021-01-02 08:38:00  \n",
       "25%              2021-07-03 11:21:00  \n",
       "50%              2021-11-04 11:56:00  \n",
       "75%              2022-05-31 09:18:00  \n",
       "max              2022-09-30 18:56:00  \n",
       "std                              NaN  "
      ]
     },
     "execution_count": 41,
     "metadata": {},
     "output_type": "execute_result"
    }
   ],
   "source": [
    "data.describe()"
   ]
  }
 ],
 "metadata": {
  "kernelspec": {
   "display_name": ".venv",
   "language": "python",
   "name": "python3"
  },
  "language_info": {
   "codemirror_mode": {
    "name": "ipython",
    "version": 3
   },
   "file_extension": ".py",
   "mimetype": "text/x-python",
   "name": "python",
   "nbconvert_exporter": "python",
   "pygments_lexer": "ipython3",
   "version": "3.12.3"
  }
 },
 "nbformat": 4,
 "nbformat_minor": 2
}
